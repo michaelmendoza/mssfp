{
 "cells": [
  {
   "cell_type": "code",
   "execution_count": null,
   "id": "8a1d3644-05f8-42f9-b414-1c610616352a",
   "metadata": {},
   "outputs": [],
   "source": [
    "import numpy as np\n",
    "import matplotlib.pyplot as plt\n",
    "import matplotlib.image as mpimg\n",
    "from skimage import io, transform"
   ]
  },
  {
   "cell_type": "code",
   "execution_count": null,
   "id": "01e351f2-e3b5-43ce-9e56-201f9caae814",
   "metadata": {},
   "outputs": [],
   "source": [
    "tissue_map = {\n",
    "    'water': [4, 2],\n",
    "    'white-matter': [0.6, 0.08],\n",
    "    'gray-matter': [0.9, 0.1],\n",
    "    'muscle': [0.9, .05],\n",
    "    'liver': [0.5, 0.04],\n",
    "    'fat': [0.25, 0.07],\n",
    "    'tendon': [0.4, 0.005],\n",
    "    'proteins': [0.250, 0.001]\n",
    "}"
   ]
  },
  {
   "cell_type": "code",
   "execution_count": null,
   "id": "168cc00e-dc99-41e3-9821-d6e201f19161",
   "metadata": {},
   "outputs": [],
   "source": [
    "width = 256\n",
    "height = 256\n",
    "mask = np.zeros((width, height))\n",
    "\n",
    "keys = list(tissue_map.keys())\n",
    "\n",
    "s = (64, 64)\n",
    "mask = np.block([[np.ones(s) * 0, np.ones(s) * 1, np.ones(s) * 2, np.ones(s) * 3],\n",
    "                 [np.ones(s) * 4, np.ones(s) * 5, np.ones(s) * 6, np.ones(s) * 7]]).astype(int)\n",
    "size = mask.shape\n",
    "\n",
    "t1 = list(map(lambda x: tissue_map[keys[x]][0], mask.flatten()))\n",
    "t1 = np.array(t1).reshape(mask.shape)\n",
    "\n",
    "t2 = list(map(lambda x: tissue_map[keys[x]][1], mask.flatten()))\n",
    "t2 = np.array(t1).reshape(mask.shape)\n",
    "\n",
    "f0 = 300\n",
    "f = np.linspace(-f0, f0, size[1])\n",
    "f = np.tile(f, (size[0], 1))\n",
    "\n",
    "phantom = {'t1':t1, 't2':t2, 'fo':f}"
   ]
  },
  {
   "cell_type": "code",
   "execution_count": null,
   "id": "665e67e7-d62e-4b50-861b-58c967bb771f",
   "metadata": {},
   "outputs": [],
   "source": [
    "plt.imshow(t1)"
   ]
  },
  {
   "cell_type": "code",
   "execution_count": null,
   "id": "e3eff30e-4528-4427-9753-793240fb4931",
   "metadata": {},
   "outputs": [],
   "source": [
    "plt.imshow(t2)"
   ]
  },
  {
   "cell_type": "code",
   "execution_count": null,
   "id": "e8bb3e4a-0441-4f3e-9902-203c9d6c619d",
   "metadata": {},
   "outputs": [],
   "source": [
    "plt.imshow(f)"
   ]
  },
  {
   "cell_type": "code",
   "execution_count": null,
   "id": "b2171a0e-6bbd-400f-a807-273727f1b42e",
   "metadata": {},
   "outputs": [],
   "source": []
  },
  {
   "cell_type": "code",
   "execution_count": null,
   "id": "e0f71548-56e6-4b6b-9adf-08a6523b0cd5",
   "metadata": {},
   "outputs": [],
   "source": []
  },
  {
   "cell_type": "code",
   "execution_count": null,
   "id": "7cd52a00-a5a3-4a19-a2e0-d5acac835a99",
   "metadata": {},
   "outputs": [],
   "source": []
  }
 ],
 "metadata": {
  "kernelspec": {
   "display_name": "Python 3",
   "language": "python",
   "name": "python3"
  },
  "language_info": {
   "codemirror_mode": {
    "name": "ipython",
    "version": 3
   },
   "file_extension": ".py",
   "mimetype": "text/x-python",
   "name": "python",
   "nbconvert_exporter": "python",
   "pygments_lexer": "ipython3",
   "version": "3.8.8"
  }
 },
 "nbformat": 4,
 "nbformat_minor": 5
}
