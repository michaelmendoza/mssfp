{
 "cells": [
  {
   "cell_type": "code",
   "execution_count": null,
   "id": "9a250632-7c44-4779-855a-92370738192b",
   "metadata": {},
   "outputs": [],
   "source": [
    "import sys\n",
    "sys.path.append('..')"
   ]
  },
  {
   "cell_type": "code",
   "execution_count": null,
   "id": "3c5b26b8-1392-4113-8f84-a614eb69df5e",
   "metadata": {},
   "outputs": [],
   "source": [
    "import math\n",
    "import numpy as np\n",
    "from tqdm import tqdm\n",
    "import matplotlib.pyplot as plt\n",
    "\n",
    "from mri_ssfp import ma_ssfp, add_noise_gaussian\n",
    "from generators import generate_block_phantom2d_ssfp\n",
    "from plots import show_dataset"
   ]
  },
  {
   "cell_type": "code",
   "execution_count": null,
   "id": "ca60ac39-7ee4-4b08-a093-ffc6c74e562d",
   "metadata": {},
   "outputs": [],
   "source": [
    "dataset = generate_block_phantom2d_ssfp()"
   ]
  },
  {
   "cell_type": "code",
   "execution_count": null,
   "id": "6f8c6153-e1c2-4dfd-96c3-3b68842e1c57",
   "metadata": {},
   "outputs": [],
   "source": [
    "dataset['M'].shape"
   ]
  },
  {
   "cell_type": "code",
   "execution_count": null,
   "id": "703c3bd6-a90e-435e-b961-56faf280c71d",
   "metadata": {},
   "outputs": [],
   "source": [
    "show_dataset(dataset['M'])"
   ]
  },
  {
   "cell_type": "code",
   "execution_count": null,
   "id": "276217ca-5517-4a96-8fca-fd1bf6b721a1",
   "metadata": {},
   "outputs": [],
   "source": [
    "plt.imshow(np.abs(dataset['M'][0, :, :, 0]))"
   ]
  },
  {
   "cell_type": "code",
   "execution_count": null,
   "id": "f6e8784a-754d-4b37-87a3-c59dcc45ab5b",
   "metadata": {},
   "outputs": [],
   "source": [
    "Mslice = dataset['M'][0, 32, :, 0]\n",
    "plt.plot(np.abs(Mslice))"
   ]
  },
  {
   "cell_type": "code",
   "execution_count": null,
   "id": "f47863e4-8f18-42b3-8d66-97b3a2cff2bc",
   "metadata": {},
   "outputs": [],
   "source": [
    "Mslice = dataset['M'][0, 32+64, :, 0]\n",
    "plt.plot(np.abs(Mslice))"
   ]
  },
  {
   "cell_type": "code",
   "execution_count": null,
   "id": "06685c12-1282-4860-a7a2-71ffc6e266e2",
   "metadata": {},
   "outputs": [],
   "source": []
  }
 ],
 "metadata": {
  "kernelspec": {
   "display_name": "Python 3",
   "language": "python",
   "name": "python3"
  },
  "language_info": {
   "codemirror_mode": {
    "name": "ipython",
    "version": 3
   },
   "file_extension": ".py",
   "mimetype": "text/x-python",
   "name": "python",
   "nbconvert_exporter": "python",
   "pygments_lexer": "ipython3",
   "version": "3.8.8"
  }
 },
 "nbformat": 4,
 "nbformat_minor": 5
}
