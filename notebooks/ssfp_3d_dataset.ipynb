{
 "cells": [
  {
   "cell_type": "code",
   "execution_count": null,
   "id": "c6ffbb37-c86c-4a3e-9df1-d1de6c9646ea",
   "metadata": {},
   "outputs": [],
   "source": [
    "import sys\n",
    "sys.path.append('..')\n",
    "\n",
    "import numpy as np\n",
    "import matplotlib.pyplot as plt\n",
    "from skimage.metrics import normalized_root_mse\n",
    "from skimage.restoration import unwrap_phase\n",
    "\n",
    "import time\n",
    "from time import perf_counter\n",
    "\n",
    "from plots import *\n",
    "from phantom import *\n",
    "from ssfp import planet"
   ]
  },
  {
   "cell_type": "code",
   "execution_count": null,
   "id": "93fc21da-7fa3-4f97-8ffb-fb5cdd678c24",
   "metadata": {},
   "outputs": [],
   "source": [
    "start = time.time()\n",
    "data = generate_ssfp_dataset(path='../data')['M']\n",
    "end = time.time()\n",
    "print(end - start)"
   ]
  },
  {
   "cell_type": "code",
   "execution_count": null,
   "id": "bd735217-7607-4b72-914e-a1da5d795970",
   "metadata": {},
   "outputs": [],
   "source": [
    "print(data.shape)"
   ]
  },
  {
   "cell_type": "code",
   "execution_count": null,
   "id": "d183879c-06b2-496c-b788-3ff6f8ea9f65",
   "metadata": {},
   "outputs": [],
   "source": [
    "show_dataset(data)"
   ]
  },
  {
   "cell_type": "code",
   "execution_count": null,
   "id": "bc403cfb-32d9-4e35-81ea-2976888d09f8",
   "metadata": {},
   "outputs": [],
   "source": [
    "combine_channels(data).shape"
   ]
  },
  {
   "cell_type": "code",
   "execution_count": null,
   "id": "5a3a4a1d-f754-4a01-925d-e2cf130eaf2e",
   "metadata": {
    "tags": []
   },
   "outputs": [],
   "source": [
    "_data = load_dataset()\n",
    "phantom = generate_3d_phantom(_data)"
   ]
  },
  {
   "cell_type": "code",
   "execution_count": null,
   "id": "588ebb80-e123-477d-8a22-9fa05fe970de",
   "metadata": {},
   "outputs": [],
   "source": [
    "phantom.keys()"
   ]
  },
  {
   "cell_type": "code",
   "execution_count": null,
   "id": "44118aa1-8319-404c-a272-7c6c3dfe4fdf",
   "metadata": {},
   "outputs": [],
   "source": [
    "show_dataset(phantom['M0'])"
   ]
  },
  {
   "cell_type": "code",
   "execution_count": null,
   "id": "f501f1ee-97b6-47d7-9d4f-e0aba74b060e",
   "metadata": {},
   "outputs": [],
   "source": [
    "show_dataset(phantom['t1_map'])"
   ]
  },
  {
   "cell_type": "code",
   "execution_count": null,
   "id": "d1fedb4d-7b9c-4b97-b609-b48fc3c91511",
   "metadata": {},
   "outputs": [],
   "source": [
    "show_dataset(phantom['t2_map'])"
   ]
  },
  {
   "cell_type": "code",
   "execution_count": null,
   "id": "4d5623b0-affc-4014-b490-7c3f65446b49",
   "metadata": {},
   "outputs": [],
   "source": []
  }
 ],
 "metadata": {
  "kernelspec": {
   "display_name": "Python 3",
   "language": "python",
   "name": "python3"
  },
  "language_info": {
   "codemirror_mode": {
    "name": "ipython",
    "version": 3
   },
   "file_extension": ".py",
   "mimetype": "text/x-python",
   "name": "python",
   "nbconvert_exporter": "python",
   "pygments_lexer": "ipython3",
   "version": "3.8.8"
  }
 },
 "nbformat": 4,
 "nbformat_minor": 5
}
